{
 "cells": [
  {
   "cell_type": "markdown",
   "source": [
    "# Binary Classification with Bank Churn Dataset.\n",
    "## This is a kaggle playground competition to improve machine learning and data science skills. Link to the competition can be found [here](https://www.kaggle.com/competitions/playground-series-s4e1/overview)\n"
   ],
   "metadata": {
    "collapsed": false
   },
   "id": "58f562d2ea4b906d"
  },
  {
   "cell_type": "markdown",
   "source": [
    "## Importing Libraries"
   ],
   "metadata": {
    "collapsed": false
   },
   "id": "6aa8a146df0bc4dd"
  },
  {
   "cell_type": "code",
   "execution_count": 6,
   "id": "5c9b4895-53f8-4fbc-add5-f698f45e18dc",
   "metadata": {
    "ExecuteTime": {
     "end_time": "2024-01-23T18:42:31.284915Z",
     "start_time": "2024-01-23T18:42:30.561959Z"
    }
   },
   "outputs": [],
   "source": [
    "import pandas as pd\n",
    "import matplotlib.pyplot as plt\n",
    "from sklearn.preprocessing import LabelEncoder, OneHotEncoder\n",
    "from sklearn.model_selection import train_test_split\n",
    "from xgboost import XGBClassifier"
   ]
  },
  {
   "cell_type": "markdown",
   "source": [
    "## Data description && EDA"
   ],
   "metadata": {
    "collapsed": false
   },
   "id": "b0cdc5f8850c3c33"
  },
  {
   "cell_type": "markdown",
   "source": [
    "* **Customer ID:** A unique identifier for each customer\n",
    "* **Surname:** The customer's surname or last name\n",
    "* **Credit Score:** A numerical value representing the customer's credit score\n",
    "* **Geography:** The country where the customer resides (France, Spain or Germany)\n",
    "* **Gender:** The customer's gender (Male or Female)\n",
    "* **Age:** The customer's age.\n",
    "* **Tenure:** The number of years the customer has been with the bank\n",
    "* **Balance:** The customer's account balance\n",
    "* **NumOfProducts:** The number of bank products the customer uses (e.g., savings account, credit card)\n",
    "* **HasCrCard:** Whether the customer has a credit card (1 = yes, 0 = no)\n",
    "* **IsActiveMember:** Whether the customer is an active member (1 = yes, 0 = no)\n",
    "* **EstimatedSalary:** The estimated salary of the customer\n",
    "* **Exited:** Whether the customer has churned (1 = yes, 0 = no)"
   ],
   "metadata": {
    "collapsed": false
   },
   "id": "8750282b6f7cfb84"
  },
  {
   "cell_type": "code",
   "outputs": [
    {
     "name": "stdout",
     "output_type": "stream",
     "text": [
      "<class 'pandas.core.frame.DataFrame'>\n",
      "RangeIndex: 165034 entries, 0 to 165033\n",
      "Data columns (total 14 columns):\n",
      " #   Column           Non-Null Count   Dtype  \n",
      "---  ------           --------------   -----  \n",
      " 0   id               165034 non-null  int64  \n",
      " 1   CustomerId       165034 non-null  int64  \n",
      " 2   Surname          165034 non-null  object \n",
      " 3   CreditScore      165034 non-null  int64  \n",
      " 4   Geography        165034 non-null  object \n",
      " 5   Gender           165034 non-null  object \n",
      " 6   Age              165034 non-null  float64\n",
      " 7   Tenure           165034 non-null  int64  \n",
      " 8   Balance          165034 non-null  float64\n",
      " 9   NumOfProducts    165034 non-null  int64  \n",
      " 10  HasCrCard        165034 non-null  float64\n",
      " 11  IsActiveMember   165034 non-null  float64\n",
      " 12  EstimatedSalary  165034 non-null  float64\n",
      " 13  Exited           165034 non-null  int64  \n",
      "dtypes: float64(5), int64(6), object(3)\n",
      "memory usage: 17.6+ MB\n"
     ]
    }
   ],
   "source": [
    "train_data = pd.read_csv(\"../data/bank_churn_competition/train.csv\")\n",
    "train_data.info()"
   ],
   "metadata": {
    "collapsed": false,
    "ExecuteTime": {
     "end_time": "2024-01-23T18:50:31.932255Z",
     "start_time": "2024-01-23T18:50:31.797623Z"
    }
   },
   "id": "2aa3d458dd636b74",
   "execution_count": 10
  },
  {
   "cell_type": "code",
   "outputs": [],
   "source": [],
   "metadata": {
    "collapsed": false
   },
   "id": "986533d25076a559"
  },
  {
   "cell_type": "code",
   "outputs": [],
   "source": [
    "feature_columns = [column for column in list(train_data.columns) if column != \"Exited\"]\n",
    "feature_columns.remove(\"id\")\n",
    "target_column = [\"Exited\"]"
   ],
   "metadata": {
    "collapsed": false,
    "ExecuteTime": {
     "end_time": "2024-01-23T19:03:33.185474Z",
     "start_time": "2024-01-23T19:03:33.183786Z"
    }
   },
   "id": "447a16a2ce09650f",
   "execution_count": 29
  },
  {
   "cell_type": "code",
   "execution_count": 30,
   "id": "83f2400f-3f1f-4be2-83d8-39304997505b",
   "metadata": {
    "ExecuteTime": {
     "end_time": "2024-01-23T19:03:36.879851Z",
     "start_time": "2024-01-23T19:03:36.854353Z"
    }
   },
   "outputs": [
    {
     "name": "stdout",
     "output_type": "stream",
     "text": [
      "CustomerId:\n",
      "Max: 15815690.00\n",
      "Min: 15565701.00\n",
      "Mean: 15692005.019\n",
      "Median 15690169.000\n",
      "----------\n",
      "\n",
      "CreditScore:\n",
      "Max: 850.00\n",
      "Min: 350.00\n",
      "Mean: 656.454\n",
      "Median 659.000\n",
      "----------\n",
      "\n",
      "Age:\n",
      "Max: 92.00\n",
      "Min: 18.00\n",
      "Mean: 38.126\n",
      "Median 37.000\n",
      "----------\n",
      "\n",
      "Tenure:\n",
      "Max: 10.00\n",
      "Min: 0.00\n",
      "Mean: 5.020\n",
      "Median 5.000\n",
      "----------\n",
      "\n",
      "Balance:\n",
      "Max: 250898.09\n",
      "Min: 0.00\n",
      "Mean: 55478.087\n",
      "Median 0.000\n",
      "----------\n",
      "\n",
      "NumOfProducts:\n",
      "Max: 4.00\n",
      "Min: 1.00\n",
      "Mean: 1.554\n",
      "Median 2.000\n",
      "----------\n",
      "\n",
      "HasCrCard:\n",
      "Max: 1.00\n",
      "Min: 0.00\n",
      "Mean: 0.754\n",
      "Median 1.000\n",
      "----------\n",
      "\n",
      "IsActiveMember:\n",
      "Max: 1.00\n",
      "Min: 0.00\n",
      "Mean: 0.498\n",
      "Median 0.000\n",
      "----------\n",
      "\n",
      "EstimatedSalary:\n",
      "Max: 199992.48\n",
      "Min: 11.58\n",
      "Mean: 112574.823\n",
      "Median 117948.000\n",
      "----------\n"
     ]
    }
   ],
   "source": [
    "for column in feature_columns:\n",
    "    data = train_data[column]\n",
    "    if data.dtype == \"float64\" or data.dtype == \"int64\": \n",
    "            print(f\"{column}:\\nMax: {data.max():.2f}\\n\"\n",
    "                  f\"Min: {data.min():.2f}\\n\"\n",
    "                  f\"Mean: {data.mean():.3f}\"\n",
    "                  f\"\\nMedian {data.median():.3f}\")\n",
    "            print(\"----------\\n\")"
   ]
  },
  {
   "cell_type": "code",
   "execution_count": 4,
   "id": "cbb76b96-4d62-462c-b9b8-4e4a6c9d9381",
   "metadata": {
    "ExecuteTime": {
     "end_time": "2024-01-23T18:33:05.922926Z",
     "start_time": "2024-01-23T18:33:05.917911Z"
    }
   },
   "outputs": [
    {
     "name": "stdout",
     "output_type": "stream",
     "text": [
      "Target values [0 1]\n"
     ]
    }
   ],
   "source": [
    "print(f\"Target values:: {train_data['Exited'].unique()}\")"
   ]
  },
  {
   "cell_type": "code",
   "outputs": [],
   "source": [],
   "metadata": {
    "collapsed": false
   },
   "id": "f84982f76d6af549"
  }
 ],
 "metadata": {
  "kernelspec": {
   "display_name": "Python 3 (ipykernel)",
   "language": "python",
   "name": "python3"
  },
  "language_info": {
   "codemirror_mode": {
    "name": "ipython",
    "version": 3
   },
   "file_extension": ".py",
   "mimetype": "text/x-python",
   "name": "python",
   "nbconvert_exporter": "python",
   "pygments_lexer": "ipython3",
   "version": "3.11.7"
  }
 },
 "nbformat": 4,
 "nbformat_minor": 5
}
