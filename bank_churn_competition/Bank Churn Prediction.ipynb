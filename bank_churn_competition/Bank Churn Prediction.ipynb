{
 "cells": [
  {
   "cell_type": "code",
   "execution_count": 1,
   "id": "5c9b4895-53f8-4fbc-add5-f698f45e18dc",
   "metadata": {},
   "outputs": [],
   "source": [
    "import pandas as pd"
   ]
  },
  {
   "cell_type": "code",
   "execution_count": 3,
   "id": "75a0526f-f17a-43a3-8095-36dff3a982f2",
   "metadata": {},
   "outputs": [],
   "source": [
    "train_data = pd.read_csv(\"../data/bank_churn_competition/train.csv\")"
   ]
  },
  {
   "cell_type": "code",
   "execution_count": 12,
   "id": "83f2400f-3f1f-4be2-83d8-39304997505b",
   "metadata": {},
   "outputs": [
    {
     "name": "stdout",
     "output_type": "stream",
     "text": [
      "id: 165034\n",
      "\n",
      "CustomerId: 23221\n",
      "\n",
      "Surname: 2797\n",
      "\n",
      "CreditScore: 457\n",
      "\n",
      "Geography: 3\n",
      "\n",
      "Gender: 2\n",
      "\n",
      "Age: 71\n",
      "\n",
      "Tenure: 11\n",
      "\n",
      "Balance: 30075\n",
      "\n",
      "NumOfProducts: 4\n",
      "\n",
      "HasCrCard: 2\n",
      "\n",
      "IsActiveMember: 2\n",
      "\n",
      "EstimatedSalary: 55298\n",
      "\n",
      "Exited: 2\n",
      "\n"
     ]
    }
   ],
   "source": [
    "for column in list(train_data.columns):\n",
    "    # if column != \"id\": \n",
    "    print(f\"{column}: {train_data[column].nunique()}\\n\")"
   ]
  },
  {
   "cell_type": "code",
   "execution_count": null,
   "id": "cbb76b96-4d62-462c-b9b8-4e4a6c9d9381",
   "metadata": {},
   "outputs": [],
   "source": []
  }
 ],
 "metadata": {
  "kernelspec": {
   "display_name": "Python 3 (ipykernel)",
   "language": "python",
   "name": "python3"
  },
  "language_info": {
   "codemirror_mode": {
    "name": "ipython",
    "version": 3
   },
   "file_extension": ".py",
   "mimetype": "text/x-python",
   "name": "python",
   "nbconvert_exporter": "python",
   "pygments_lexer": "ipython3",
   "version": "3.11.7"
  }
 },
 "nbformat": 4,
 "nbformat_minor": 5
}
