{
 "cells": [
  {
   "cell_type": "markdown",
   "source": [
    "# Binary Classification with Bank Churn Dataset.\n",
    "## This is a kaggle playground competition to improve machine learning and data science skills. Link to the competition can be found [here](https://www.kaggle.com/competitions/playground-series-s4e1/overview)\n"
   ],
   "metadata": {
    "collapsed": false
   },
   "id": "58f562d2ea4b906d"
  },
  {
   "cell_type": "markdown",
   "source": [
    "## Importing Libraries"
   ],
   "metadata": {
    "collapsed": false
   },
   "id": "6aa8a146df0bc4dd"
  },
  {
   "cell_type": "code",
   "execution_count": 53,
   "id": "5c9b4895-53f8-4fbc-add5-f698f45e18dc",
   "metadata": {
    "ExecuteTime": {
     "end_time": "2024-01-24T19:35:06.187376Z",
     "start_time": "2024-01-24T19:35:06.129871Z"
    }
   },
   "outputs": [],
   "source": [
    "import pandas as pd\n",
    "import matplotlib.pyplot as plt\n",
    "from sklearn.preprocessing import LabelEncoder, OneHotEncoder, StandardScaler\n",
    "from sklearn.model_selection import train_test_split\n",
    "from xgboost import XGBClassifier\n",
    "import seaborn as sns"
   ]
  },
  {
   "cell_type": "markdown",
   "source": [
    "## Data description && EDA"
   ],
   "metadata": {
    "collapsed": false
   },
   "id": "b0cdc5f8850c3c33"
  },
  {
   "cell_type": "markdown",
   "source": [
    "* **Customer ID:** A unique identifier for each customer\n",
    "* **Surname:** The customer's surname or last name\n",
    "* **Credit Score:** A numerical value representing the customer's credit score\n",
    "* **Geography:** The country where the customer resides (France, Spain or Germany)\n",
    "* **Gender:** The customer's gender (Male or Female)\n",
    "* **Age:** The customer's age.\n",
    "* **Tenure:** The number of years the customer has been with the bank\n",
    "* **Balance:** The customer's account balance\n",
    "* **NumOfProducts:** The number of bank products the customer uses (e.g., savings account, credit card)\n",
    "* **HasCrCard:** Whether the customer has a credit card (1 = yes, 0 = no)\n",
    "* **IsActiveMember:** Whether the customer is an active member (1 = yes, 0 = no)\n",
    "* **EstimatedSalary:** The estimated salary of the customer\n",
    "* **Exited:** Whether the customer has churned (1 = yes, 0 = no)"
   ],
   "metadata": {
    "collapsed": false
   },
   "id": "8750282b6f7cfb84"
  },
  {
   "cell_type": "code",
   "outputs": [
    {
     "name": "stdout",
     "output_type": "stream",
     "text": [
      "<class 'pandas.core.frame.DataFrame'>\n",
      "RangeIndex: 165034 entries, 0 to 165033\n",
      "Data columns (total 14 columns):\n",
      " #   Column           Non-Null Count   Dtype  \n",
      "---  ------           --------------   -----  \n",
      " 0   id               165034 non-null  int64  \n",
      " 1   CustomerId       165034 non-null  int64  \n",
      " 2   Surname          165034 non-null  object \n",
      " 3   CreditScore      165034 non-null  int64  \n",
      " 4   Geography        165034 non-null  object \n",
      " 5   Gender           165034 non-null  object \n",
      " 6   Age              165034 non-null  float64\n",
      " 7   Tenure           165034 non-null  int64  \n",
      " 8   Balance          165034 non-null  float64\n",
      " 9   NumOfProducts    165034 non-null  int64  \n",
      " 10  HasCrCard        165034 non-null  float64\n",
      " 11  IsActiveMember   165034 non-null  float64\n",
      " 12  EstimatedSalary  165034 non-null  float64\n",
      " 13  Exited           165034 non-null  int64  \n",
      "dtypes: float64(5), int64(6), object(3)\n",
      "memory usage: 17.6+ MB\n"
     ]
    }
   ],
   "source": [
    "train_data = pd.read_csv(\"../data/bank_churn_competition/train.csv\")\n",
    "train_data.info()"
   ],
   "metadata": {
    "collapsed": false,
    "ExecuteTime": {
     "end_time": "2024-01-24T19:35:06.322338Z",
     "start_time": "2024-01-24T19:35:06.136028Z"
    }
   },
   "id": "2aa3d458dd636b74",
   "execution_count": 54
  },
  {
   "cell_type": "code",
   "outputs": [],
   "source": [
    "columns_to_drop = [\"Exited\", \"id\", \"Surname\", \"CustomerId\"]\n",
    "relevant_feature_columns = [column for column in list(train_data.columns) if column not in columns_to_drop]\n",
    "target_column = [\"Exited\"]"
   ],
   "metadata": {
    "collapsed": false,
    "ExecuteTime": {
     "end_time": "2024-01-24T19:35:06.323040Z",
     "start_time": "2024-01-24T19:35:06.320299Z"
    }
   },
   "id": "447a16a2ce09650f",
   "execution_count": 55
  },
  {
   "cell_type": "code",
   "execution_count": 56,
   "id": "83f2400f-3f1f-4be2-83d8-39304997505b",
   "metadata": {
    "ExecuteTime": {
     "end_time": "2024-01-24T19:35:06.355377Z",
     "start_time": "2024-01-24T19:35:06.324743Z"
    }
   },
   "outputs": [
    {
     "name": "stdout",
     "output_type": "stream",
     "text": [
      "CreditScore:\n",
      "Max: 850.00\n",
      "Min: 350.00\n",
      "Mean: 656.454\n",
      "Median 659.000\n",
      "----------\n",
      "\n",
      "Age:\n",
      "Max: 92.00\n",
      "Min: 18.00\n",
      "Mean: 38.126\n",
      "Median 37.000\n",
      "----------\n",
      "\n",
      "Tenure:\n",
      "Max: 10.00\n",
      "Min: 0.00\n",
      "Mean: 5.020\n",
      "Median 5.000\n",
      "----------\n",
      "\n",
      "Balance:\n",
      "Max: 250898.09\n",
      "Min: 0.00\n",
      "Mean: 55478.087\n",
      "Median 0.000\n",
      "----------\n",
      "\n",
      "NumOfProducts:\n",
      "Max: 4.00\n",
      "Min: 1.00\n",
      "Mean: 1.554\n",
      "Median 2.000\n",
      "----------\n",
      "\n",
      "HasCrCard:\n",
      "Max: 1.00\n",
      "Min: 0.00\n",
      "Mean: 0.754\n",
      "Median 1.000\n",
      "----------\n",
      "\n",
      "IsActiveMember:\n",
      "Max: 1.00\n",
      "Min: 0.00\n",
      "Mean: 0.498\n",
      "Median 0.000\n",
      "----------\n",
      "\n",
      "EstimatedSalary:\n",
      "Max: 199992.48\n",
      "Min: 11.58\n",
      "Mean: 112574.823\n",
      "Median 117948.000\n",
      "----------\n"
     ]
    }
   ],
   "source": [
    "for column in feature_columns:\n",
    "    data = train_data[column]\n",
    "    if data.dtype == \"float64\" or data.dtype == \"int64\": \n",
    "            print(f\"{column}:\\nMax: {data.max():.2f}\\n\"\n",
    "                  f\"Min: {data.min():.2f}\\n\"\n",
    "                  f\"Mean: {data.mean():.3f}\"\n",
    "                  f\"\\nMedian {data.median():.3f}\")\n",
    "            print(\"----------\\n\")"
   ]
  },
  {
   "cell_type": "markdown",
   "source": [
    "* Feature columns seem to be normally distributed. Mean and Median for each column are very close. "
   ],
   "metadata": {
    "collapsed": false
   },
   "id": "e81de09343c0837d"
  },
  {
   "cell_type": "markdown",
   "source": [
    "### Examining correlation between feature columns and target output. "
   ],
   "metadata": {
    "collapsed": false
   },
   "id": "1f47e60bf7dd25fe"
  },
  {
   "cell_type": "code",
   "outputs": [],
   "source": [
    "correlation = train_data[relevant_feature_columns + target_column]"
   ],
   "metadata": {
    "collapsed": false,
    "ExecuteTime": {
     "end_time": "2024-01-24T19:35:06.355863Z",
     "start_time": "2024-01-24T19:35:06.347699Z"
    }
   },
   "id": "d3c46ad90578b8e8",
   "execution_count": 57
  },
  {
   "cell_type": "code",
   "outputs": [
    {
     "name": "stderr",
     "output_type": "stream",
     "text": [
      "/var/folders/4d/rdp7yqvj08d6bhjwt9ryxkth0000gn/T/ipykernel_9488/4057678766.py:3: SettingWithCopyWarning: \n",
      "A value is trying to be set on a copy of a slice from a DataFrame.\n",
      "Try using .loc[row_indexer,col_indexer] = value instead\n",
      "\n",
      "See the caveats in the documentation: https://pandas.pydata.org/pandas-docs/stable/user_guide/indexing.html#returning-a-view-versus-a-copy\n",
      "  correlation[\"Geography\"] = output\n"
     ]
    }
   ],
   "source": [
    "encoder = LabelEncoder()\n",
    "output = encoder.fit_transform(train_data[\"Geography\"])\n",
    "correlation[\"Geography\"] = output"
   ],
   "metadata": {
    "collapsed": false,
    "ExecuteTime": {
     "end_time": "2024-01-24T19:36:27.723476Z",
     "start_time": "2024-01-24T19:36:27.719088Z"
    }
   },
   "id": "b982dae0ceca330f",
   "execution_count": 65
  },
  {
   "cell_type": "code",
   "outputs": [
    {
     "data": {
      "text/plain": "0         1\n1         1\n2         1\n3         1\n4         1\n         ..\n165029    0\n165030    1\n165031    1\n165032    0\n165033    1\nName: Gender, Length: 165034, dtype: int64"
     },
     "execution_count": 63,
     "metadata": {},
     "output_type": "execute_result"
    }
   ],
   "source": [
    "age_encoder = LabelEncoder()\n",
    "gender_output = encoder.fit_transform(correlation[\"Gender\"])\n",
    "correlation[\"Gender\"] "
   ],
   "metadata": {
    "collapsed": false,
    "ExecuteTime": {
     "end_time": "2024-01-24T19:35:59.013562Z",
     "start_time": "2024-01-24T19:35:58.998351Z"
    }
   },
   "id": "794dffa47d29d84f",
   "execution_count": 63
  },
  {
   "cell_type": "code",
   "outputs": [
    {
     "data": {
      "text/plain": "<Figure size 640x480 with 2 Axes>",
      "image/png": "[encoded data removed]"
     },
     "metadata": {},
     "output_type": "display_data"
    }
   ],
   "source": [
    "correlation_full_health = correlation.corr()\n",
    "\n",
    "axis_corr = sns.heatmap(\n",
    "    correlation_full_health,\n",
    "    vmin=-1, vmax=1, center=0,\n",
    "    cmap=sns.diverging_palette(50, 500, n=500),\n",
    "    square=True\n",
    ")\n",
    "\n",
    "plt.show()"
   ],
   "metadata": {
    "collapsed": false,
    "ExecuteTime": {
     "end_time": "2024-01-24T19:36:31.597090Z",
     "start_time": "2024-01-24T19:36:31.412214Z"
    }
   },
   "id": "b14966e9a7f86759",
   "execution_count": 66
  },
  {
   "cell_type": "code",
   "outputs": [],
   "source": [
    "print(correlation.corr())"
   ],
   "metadata": {
    "collapsed": false,
    "ExecuteTime": {
     "start_time": "2024-01-24T19:35:06.449977Z"
    }
   },
   "id": "6cfa2ac12762690",
   "execution_count": null
  },
  {
   "cell_type": "code",
   "outputs": [
    {
     "name": "stdout",
     "output_type": "stream",
     "text": [
      "CreditScore:\n",
      "Correlation with target: -0.02738260006165168\n",
      "\n",
      "\n",
      "Geography:\n",
      "Correlation with target: 0.05334343123704925\n",
      "\n",
      "\n",
      "Gender:\n",
      "Correlation with target: -0.1464415589539307\n",
      "\n",
      "\n",
      "Age:\n",
      "Correlation with target: 0.3407681634075804\n",
      "\n",
      "\n",
      "Tenure:\n",
      "Correlation with target: -0.019564844484077474\n",
      "\n",
      "\n",
      "Balance:\n",
      "Correlation with target: 0.12974286048401104\n",
      "\n",
      "\n",
      "NumOfProducts:\n",
      "Correlation with target: -0.21455423158490433\n",
      "\n",
      "\n",
      "HasCrCard:\n",
      "Correlation with target: -0.02214133307230682\n",
      "\n",
      "\n",
      "IsActiveMember:\n",
      "Correlation with target: -0.2102370257921375\n",
      "\n",
      "\n",
      "EstimatedSalary:\n",
      "Correlation with target: 0.01882680567081288\n",
      "\n"
     ]
    }
   ],
   "source": [
    "for column in correlation.columns:\n",
    "    if column != \"Exited\":\n",
    "        print(f\"{column}:\\nCorrelation with target: {correlation[column].corr(correlation['Exited'])}\\n\\n\")"
   ],
   "metadata": {
    "collapsed": false,
    "ExecuteTime": {
     "end_time": "2024-01-24T19:38:49.141514Z",
     "start_time": "2024-01-24T19:38:49.111048Z"
    }
   },
   "id": "15cf98bc49932af0",
   "execution_count": 71
  },
  {
   "cell_type": "code",
   "outputs": [],
   "source": [],
   "metadata": {
    "collapsed": false
   },
   "id": "9078ea831852081e"
  }
 ],
 "metadata": {
  "kernelspec": {
   "display_name": "Python 3 (ipykernel)",
   "language": "python",
   "name": "python3"
  },
  "language_info": {
   "codemirror_mode": {
    "name": "ipython",
    "version": 3
   },
   "file_extension": ".py",
   "mimetype": "text/x-python",
   "name": "python",
   "nbconvert_exporter": "python",
   "pygments_lexer": "ipython3",
   "version": "3.11.7"
  }
 },
 "nbformat": 4,
 "nbformat_minor": 5
}
