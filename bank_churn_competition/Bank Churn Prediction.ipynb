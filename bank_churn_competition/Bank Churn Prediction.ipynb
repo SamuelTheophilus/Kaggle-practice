{
 "cells": [
  {
   "cell_type": "markdown",
   "source": [
    "# Binary Classification with Bank Churn Dataset.\n",
    "## This is a kaggle playground competition to improve machine learning and data science skills. Link to the competition can be found [here](https://www.kaggle.com/competitions/playground-series-s4e1/overview)\n"
   ],
   "metadata": {
    "collapsed": false
   },
   "id": "58f562d2ea4b906d"
  },
  {
   "cell_type": "markdown",
   "source": [
    "## Importing Libraries"
   ],
   "metadata": {
    "collapsed": false
   },
   "id": "6aa8a146df0bc4dd"
  },
  {
   "cell_type": "code",
   "execution_count": 1,
   "id": "5c9b4895-53f8-4fbc-add5-f698f45e18dc",
   "metadata": {
    "ExecuteTime": {
     "end_time": "2024-01-31T20:23:24.158595Z",
     "start_time": "2024-01-31T20:23:23.910290Z"
    }
   },
   "outputs": [],
   "source": [
    "import pandas as pd\n",
    "import matplotlib.pyplot as plt\n",
    "from sklearn.preprocessing import LabelEncoder, OneHotEncoder, StandardScaler\n",
    "from sklearn.model_selection import train_test_split\n",
    "from xgboost import XGBClassifier\n",
    "import seaborn as sns\n",
    "import numpy as np\n",
    "pd.options.mode.copy_on_write = True"
   ]
  },
  {
   "cell_type": "markdown",
   "source": [
    "## Data description && EDA"
   ],
   "metadata": {
    "collapsed": false
   },
   "id": "b0cdc5f8850c3c33"
  },
  {
   "cell_type": "markdown",
   "source": [
    "* **Customer ID:** A unique identifier for each customer\n",
    "* **Surname:** The customer's surname or last name\n",
    "* **Credit Score:** A numerical value representing the customer's credit score\n",
    "* **Geography:** The country where the customer resides (France, Spain or Germany)\n",
    "* **Gender:** The customer's gender (Male or Female)\n",
    "* **Age:** The customer's age.\n",
    "* **Tenure:** The number of years the customer has been with the bank\n",
    "* **Balance:** The customer's account balance\n",
    "* **NumOfProducts:** The number of bank products the customer uses (e.g., savings account, credit card)\n",
    "* **HasCrCard:** Whether the customer has a credit card (1 = yes, 0 = no)\n",
    "* **IsActiveMember:** Whether the customer is an active member (1 = yes, 0 = no)\n",
    "* **EstimatedSalary:** The estimated salary of the customer\n",
    "* **Exited:** Whether the customer has churned (1 = yes, 0 = no)"
   ],
   "metadata": {
    "collapsed": false
   },
   "id": "8750282b6f7cfb84"
  },
  {
   "cell_type": "code",
   "outputs": [
    {
     "name": "stdout",
     "output_type": "stream",
     "text": [
      "<class 'pandas.core.frame.DataFrame'>\n",
      "RangeIndex: 165034 entries, 0 to 165033\n",
      "Data columns (total 14 columns):\n",
      " #   Column           Non-Null Count   Dtype  \n",
      "---  ------           --------------   -----  \n",
      " 0   id               165034 non-null  int64  \n",
      " 1   CustomerId       165034 non-null  int64  \n",
      " 2   Surname          165034 non-null  object \n",
      " 3   CreditScore      165034 non-null  int64  \n",
      " 4   Geography        165034 non-null  object \n",
      " 5   Gender           165034 non-null  object \n",
      " 6   Age              165034 non-null  float64\n",
      " 7   Tenure           165034 non-null  int64  \n",
      " 8   Balance          165034 non-null  float64\n",
      " 9   NumOfProducts    165034 non-null  int64  \n",
      " 10  HasCrCard        165034 non-null  float64\n",
      " 11  IsActiveMember   165034 non-null  float64\n",
      " 12  EstimatedSalary  165034 non-null  float64\n",
      " 13  Exited           165034 non-null  int64  \n",
      "dtypes: float64(5), int64(6), object(3)\n",
      "memory usage: 17.6+ MB\n"
     ]
    }
   ],
   "source": [
    "train_data = pd.read_csv(\"../data/bank_churn_competition/train.csv\")\n",
    "train_data.info()"
   ],
   "metadata": {
    "collapsed": false,
    "ExecuteTime": {
     "end_time": "2024-01-31T20:23:24.256148Z",
     "start_time": "2024-01-31T20:23:24.159043Z"
    }
   },
   "id": "2aa3d458dd636b74",
   "execution_count": 2
  },
  {
   "cell_type": "code",
   "outputs": [],
   "source": [
    "columns_to_drop = [\"Exited\", \"id\", \"Surname\", \"CustomerId\"]\n",
    "relevant_feature_columns = [column for column in list(train_data.columns) if column not in columns_to_drop]\n",
    "target_column = [\"Exited\"]"
   ],
   "metadata": {
    "collapsed": false,
    "ExecuteTime": {
     "end_time": "2024-01-31T20:23:24.258270Z",
     "start_time": "2024-01-31T20:23:24.256982Z"
    }
   },
   "id": "447a16a2ce09650f",
   "execution_count": 3
  },
  {
   "cell_type": "code",
   "execution_count": 4,
   "id": "83f2400f-3f1f-4be2-83d8-39304997505b",
   "metadata": {
    "ExecuteTime": {
     "end_time": "2024-01-31T20:23:24.272971Z",
     "start_time": "2024-01-31T20:23:24.259144Z"
    }
   },
   "outputs": [
    {
     "name": "stdout",
     "output_type": "stream",
     "text": [
      "CreditScore:\n",
      "Max: 850.00\n",
      "Min: 350.00\n",
      "Mean: 656.454\n",
      "Median 659.000\n",
      "----------\n",
      "\n",
      "Age:\n",
      "Max: 92.00\n",
      "Min: 18.00\n",
      "Mean: 38.126\n",
      "Median 37.000\n",
      "----------\n",
      "\n",
      "Tenure:\n",
      "Max: 10.00\n",
      "Min: 0.00\n",
      "Mean: 5.020\n",
      "Median 5.000\n",
      "----------\n",
      "\n",
      "Balance:\n",
      "Max: 250898.09\n",
      "Min: 0.00\n",
      "Mean: 55478.087\n",
      "Median 0.000\n",
      "----------\n",
      "\n",
      "NumOfProducts:\n",
      "Max: 4.00\n",
      "Min: 1.00\n",
      "Mean: 1.554\n",
      "Median 2.000\n",
      "----------\n",
      "\n",
      "HasCrCard:\n",
      "Max: 1.00\n",
      "Min: 0.00\n",
      "Mean: 0.754\n",
      "Median 1.000\n",
      "----------\n",
      "\n",
      "IsActiveMember:\n",
      "Max: 1.00\n",
      "Min: 0.00\n",
      "Mean: 0.498\n",
      "Median 0.000\n",
      "----------\n",
      "\n",
      "EstimatedSalary:\n",
      "Max: 199992.48\n",
      "Min: 11.58\n",
      "Mean: 112574.823\n",
      "Median 117948.000\n",
      "----------\n"
     ]
    }
   ],
   "source": [
    "for column in relevant_feature_columns:\n",
    "    data = train_data[column]\n",
    "    if data.dtype == \"float64\" or data.dtype == \"int64\": \n",
    "            print(f\"{column}:\\nMax: {data.max():.2f}\\n\"\n",
    "                  f\"Min: {data.min():.2f}\\n\"\n",
    "                  f\"Mean: {data.mean():.3f}\"\n",
    "                  f\"\\nMedian {data.median():.3f}\")\n",
    "            print(\"----------\\n\")"
   ]
  },
  {
   "cell_type": "markdown",
   "source": [
    "* Feature columns seem to be normally distributed. Mean and Median for each column are very close. "
   ],
   "metadata": {
    "collapsed": false
   },
   "id": "e81de09343c0837d"
  },
  {
   "cell_type": "markdown",
   "source": [
    "### Examining correlation between feature columns and target output. "
   ],
   "metadata": {
    "collapsed": false
   },
   "id": "1f47e60bf7dd25fe"
  },
  {
   "cell_type": "code",
   "outputs": [],
   "source": [
    "correlation = train_data[relevant_feature_columns + target_column]"
   ],
   "metadata": {
    "collapsed": false,
    "ExecuteTime": {
     "end_time": "2024-01-31T20:23:24.276927Z",
     "start_time": "2024-01-31T20:23:24.274044Z"
    }
   },
   "id": "d3c46ad90578b8e8",
   "execution_count": 5
  },
  {
   "cell_type": "code",
   "outputs": [],
   "source": [
    "geo_encoder = LabelEncoder()\n",
    "output = geo_encoder.fit_transform(train_data[\"Geography\"])\n",
    "correlation[\"Geography\"] = output"
   ],
   "metadata": {
    "collapsed": false,
    "ExecuteTime": {
     "end_time": "2024-01-31T20:23:24.297377Z",
     "start_time": "2024-01-31T20:23:24.286974Z"
    }
   },
   "id": "b982dae0ceca330f",
   "execution_count": 6
  },
  {
   "cell_type": "code",
   "outputs": [],
   "source": [
    "gender_encoder = LabelEncoder()\n",
    "gender_output = gender_encoder.fit_transform(correlation[\"Gender\"])\n",
    "correlation[\"Gender\"]  = gender_output"
   ],
   "metadata": {
    "collapsed": false,
    "ExecuteTime": {
     "end_time": "2024-01-31T20:23:24.313185Z",
     "start_time": "2024-01-31T20:23:24.301214Z"
    }
   },
   "id": "794dffa47d29d84f",
   "execution_count": 7
  },
  {
   "cell_type": "code",
   "outputs": [
    {
     "data": {
      "text/plain": "<Figure size 1000x1000 with 2 Axes>",
      "image/png": "[encoded data removed]"
     },
     "metadata": {},
     "output_type": "display_data"
    }
   ],
   "source": [
    "correlation_matrix = correlation.corr()\n",
    "plt.figure(figsize=(10,10))\n",
    "sns.heatmap(correlation_matrix,square=True, annot=True)\n",
    "plt.show()"
   ],
   "metadata": {
    "collapsed": false,
    "ExecuteTime": {
     "end_time": "2024-01-31T20:23:24.573642Z",
     "start_time": "2024-01-31T20:23:24.303381Z"
    }
   },
   "id": "b14966e9a7f86759",
   "execution_count": 8
  },
  {
   "cell_type": "code",
   "outputs": [
    {
     "name": "stdout",
     "output_type": "stream",
     "text": [
      "CreditScore:\n",
      "Correlation with target: -0.02738260006165168\n",
      "\n",
      "\n",
      "Geography:\n",
      "Correlation with target: 0.05334343123704925\n",
      "\n",
      "\n",
      "Gender:\n",
      "Correlation with target: -0.1464415589539307\n",
      "\n",
      "\n",
      "Age:\n",
      "Correlation with target: 0.3407681634075804\n",
      "\n",
      "\n",
      "Tenure:\n",
      "Correlation with target: -0.019564844484077474\n",
      "\n",
      "\n",
      "Balance:\n",
      "Correlation with target: 0.12974286048401104\n",
      "\n",
      "\n",
      "NumOfProducts:\n",
      "Correlation with target: -0.21455423158490433\n",
      "\n",
      "\n",
      "HasCrCard:\n",
      "Correlation with target: -0.02214133307230682\n",
      "\n",
      "\n",
      "IsActiveMember:\n",
      "Correlation with target: -0.2102370257921375\n",
      "\n",
      "\n",
      "EstimatedSalary:\n",
      "Correlation with target: 0.01882680567081288\n",
      "\n"
     ]
    }
   ],
   "source": [
    "for column in correlation.columns:\n",
    "    if column != \"Exited\":\n",
    "        print(f\"{column}:\\nCorrelation with target: {correlation[column].corr(correlation['Exited'])}\\n\\n\")"
   ],
   "metadata": {
    "collapsed": false,
    "ExecuteTime": {
     "end_time": "2024-01-31T20:23:24.689714Z",
     "start_time": "2024-01-31T20:23:24.574199Z"
    }
   },
   "id": "15cf98bc49932af0",
   "execution_count": 9
  },
  {
   "cell_type": "code",
   "outputs": [
    {
     "name": "stdout",
     "output_type": "stream",
     "text": [
      "CreditScore: int64\n",
      "Geography: int64\n",
      "Gender: int64\n",
      "Age: float64\n",
      "Tenure: int64\n",
      "Balance: float64\n",
      "NumOfProducts: int64\n",
      "HasCrCard: float64\n",
      "IsActiveMember: float64\n",
      "EstimatedSalary: float64\n",
      "Exited: int64\n"
     ]
    }
   ],
   "source": [
    "for column in list(correlation.columns):\n",
    "    print(f\"{column}: {correlation[column].dtypes}\")"
   ],
   "metadata": {
    "collapsed": false,
    "ExecuteTime": {
     "end_time": "2024-01-31T20:23:24.690712Z",
     "start_time": "2024-01-31T20:23:24.597954Z"
    }
   },
   "id": "9078ea831852081e",
   "execution_count": 10
  },
  {
   "cell_type": "code",
   "outputs": [
    {
     "name": "stdout",
     "output_type": "stream",
     "text": [
      "CreditScore       -0.059291\n",
      "Geography          0.725460\n",
      "Gender            -0.259886\n",
      "Age                0.968063\n",
      "Tenure             0.006490\n",
      "Balance            0.382020\n",
      "NumOfProducts      0.368278\n",
      "HasCrCard         -1.179255\n",
      "IsActiveMember     0.008920\n",
      "EstimatedSalary   -0.309022\n",
      "Exited             1.412215\n",
      "dtype: float64\n"
     ]
    }
   ],
   "source": [
    "# Checking skewed data\n",
    "print(correlation.skew())"
   ],
   "metadata": {
    "collapsed": false,
    "ExecuteTime": {
     "end_time": "2024-01-31T20:23:24.691380Z",
     "start_time": "2024-01-31T20:23:24.602011Z"
    }
   },
   "id": "ab39c6627d97e97b",
   "execution_count": 11
  },
  {
   "cell_type": "code",
   "outputs": [
    {
     "name": "stdout",
     "output_type": "stream",
     "text": [
      "CreditScore          457\n",
      "Geography              3\n",
      "Gender                 2\n",
      "Age                   71\n",
      "Tenure                11\n",
      "Balance            30075\n",
      "NumOfProducts          4\n",
      "HasCrCard              2\n",
      "IsActiveMember         2\n",
      "EstimatedSalary    55298\n",
      "Exited                 2\n",
      "dtype: int64\n"
     ]
    }
   ],
   "source": [
    "print(correlation.nunique())"
   ],
   "metadata": {
    "collapsed": false,
    "ExecuteTime": {
     "end_time": "2024-01-31T20:23:24.735528Z",
     "start_time": "2024-01-31T20:23:24.619089Z"
    }
   },
   "id": "b30080b438d1fe2",
   "execution_count": 12
  },
  {
   "cell_type": "code",
   "outputs": [],
   "source": [
    "final_features = [column for column in relevant_feature_columns if abs(correlation[column].corr(correlation['Exited'])) > 0.1 ]"
   ],
   "metadata": {
    "collapsed": false,
    "ExecuteTime": {
     "end_time": "2024-01-31T20:23:24.737321Z",
     "start_time": "2024-01-31T20:23:24.631759Z"
    }
   },
   "id": "2ee8aa1d6cab5d1a",
   "execution_count": 13
  },
  {
   "cell_type": "code",
   "outputs": [
    {
     "data": {
      "text/plain": "['Gender', 'Age', 'Balance', 'NumOfProducts', 'IsActiveMember']"
     },
     "execution_count": 14,
     "metadata": {},
     "output_type": "execute_result"
    }
   ],
   "source": [
    "final_features"
   ],
   "metadata": {
    "collapsed": false,
    "ExecuteTime": {
     "end_time": "2024-01-31T20:23:24.739688Z",
     "start_time": "2024-01-31T20:23:24.643557Z"
    }
   },
   "id": "7b8ee112584cc1c",
   "execution_count": 14
  },
  {
   "cell_type": "code",
   "outputs": [
    {
     "data": {
      "text/plain": "0.8545807077072225"
     },
     "execution_count": 15,
     "metadata": {},
     "output_type": "execute_result"
    }
   ],
   "source": [
    "model = XGBClassifier(n_estimators=750, max_depth=5, n_jobs = 3) # Initialize model\n",
    "X_train, X_val, y_train, y_val = train_test_split(correlation[final_features], correlation['Exited'], test_size=0.05, random_state=7) # Split data into training and validation\n",
    "model.fit(X_train, y_train) # Train the model\n",
    "model.score(X_val, y_val) # Evaluate the model"
   ],
   "metadata": {
    "collapsed": false,
    "ExecuteTime": {
     "end_time": "2024-01-31T20:23:32.523171Z",
     "start_time": "2024-01-31T20:23:24.646522Z"
    }
   },
   "id": "c2ce68bfd29bfd78",
   "execution_count": 15
  },
  {
   "cell_type": "code",
   "outputs": [
    {
     "data": {
      "text/plain": "       id  CustomerId    Surname  CreditScore Geography  Gender   Age  Tenure  \\\n0  165034    15773898   Lucchese          586    France  Female  23.0       2   \n1  165035    15782418       Nott          683    France  Female  46.0       2   \n2  165036    15807120         K?          656    France  Female  34.0       7   \n3  165037    15808905  O'Donnell          681    France    Male  36.0       8   \n4  165038    15607314    Higgins          752   Germany    Male  38.0      10   \n\n     Balance  NumOfProducts  HasCrCard  IsActiveMember  EstimatedSalary  \n0       0.00              2        0.0             1.0        160976.75  \n1       0.00              1        1.0             0.0         72549.27  \n2       0.00              2        1.0             0.0        138882.09  \n3       0.00              1        1.0             0.0        113931.57  \n4  121263.62              1        1.0             0.0        139431.00  ",
      "text/html": "<div>\n<style scoped>\n    .dataframe tbody tr th:only-of-type {\n        vertical-align: middle;\n    }\n\n    .dataframe tbody tr th {\n        vertical-align: top;\n    }\n\n    .dataframe thead th {\n        text-align: right;\n    }\n</style>\n<table border=\"1\" class=\"dataframe\">\n  <thead>\n    <tr style=\"text-align: right;\">\n      <th></th>\n      <th>id</th>\n      <th>CustomerId</th>\n      <th>Surname</th>\n      <th>CreditScore</th>\n      <th>Geography</th>\n      <th>Gender</th>\n      <th>Age</th>\n      <th>Tenure</th>\n      <th>Balance</th>\n      <th>NumOfProducts</th>\n      <th>HasCrCard</th>\n      <th>IsActiveMember</th>\n      <th>EstimatedSalary</th>\n    </tr>\n  </thead>\n  <tbody>\n    <tr>\n      <th>0</th>\n      <td>165034</td>\n      <td>15773898</td>\n      <td>Lucchese</td>\n      <td>586</td>\n      <td>France</td>\n      <td>Female</td>\n      <td>23.0</td>\n      <td>2</td>\n      <td>0.00</td>\n      <td>2</td>\n      <td>0.0</td>\n      <td>1.0</td>\n      <td>160976.75</td>\n    </tr>\n    <tr>\n      <th>1</th>\n      <td>165035</td>\n      <td>15782418</td>\n      <td>Nott</td>\n      <td>683</td>\n      <td>France</td>\n      <td>Female</td>\n      <td>46.0</td>\n      <td>2</td>\n      <td>0.00</td>\n      <td>1</td>\n      <td>1.0</td>\n      <td>0.0</td>\n      <td>72549.27</td>\n    </tr>\n    <tr>\n      <th>2</th>\n      <td>165036</td>\n      <td>15807120</td>\n      <td>K?</td>\n      <td>656</td>\n      <td>France</td>\n      <td>Female</td>\n      <td>34.0</td>\n      <td>7</td>\n      <td>0.00</td>\n      <td>2</td>\n      <td>1.0</td>\n      <td>0.0</td>\n      <td>138882.09</td>\n    </tr>\n    <tr>\n      <th>3</th>\n      <td>165037</td>\n      <td>15808905</td>\n      <td>O'Donnell</td>\n      <td>681</td>\n      <td>France</td>\n      <td>Male</td>\n      <td>36.0</td>\n      <td>8</td>\n      <td>0.00</td>\n      <td>1</td>\n      <td>1.0</td>\n      <td>0.0</td>\n      <td>113931.57</td>\n    </tr>\n    <tr>\n      <th>4</th>\n      <td>165038</td>\n      <td>15607314</td>\n      <td>Higgins</td>\n      <td>752</td>\n      <td>Germany</td>\n      <td>Male</td>\n      <td>38.0</td>\n      <td>10</td>\n      <td>121263.62</td>\n      <td>1</td>\n      <td>1.0</td>\n      <td>0.0</td>\n      <td>139431.00</td>\n    </tr>\n  </tbody>\n</table>\n</div>"
     },
     "execution_count": 16,
     "metadata": {},
     "output_type": "execute_result"
    }
   ],
   "source": [
    "test_data = pd.read_csv(\"../data/bank_churn_competition/test.csv\")\n",
    "test_data.head()"
   ],
   "metadata": {
    "collapsed": false,
    "ExecuteTime": {
     "end_time": "2024-01-31T20:23:32.583446Z",
     "start_time": "2024-01-31T20:23:32.521142Z"
    }
   },
   "id": "ee925b2a181e0463",
   "execution_count": 16
  },
  {
   "cell_type": "code",
   "outputs": [
    {
     "data": {
      "text/plain": "Index(['id', 'CustomerId', 'Surname', 'CreditScore', 'Geography', 'Gender',\n       'Age', 'Tenure', 'Balance', 'NumOfProducts', 'HasCrCard',\n       'IsActiveMember', 'EstimatedSalary'],\n      dtype='object')"
     },
     "execution_count": 17,
     "metadata": {},
     "output_type": "execute_result"
    }
   ],
   "source": [
    "test_data.columns"
   ],
   "metadata": {
    "collapsed": false,
    "ExecuteTime": {
     "end_time": "2024-01-31T20:23:32.585655Z",
     "start_time": "2024-01-31T20:23:32.582684Z"
    }
   },
   "id": "b34b8922728d9741",
   "execution_count": 17
  },
  {
   "cell_type": "code",
   "outputs": [
    {
     "data": {
      "text/plain": "   Gender   Age    Balance  NumOfProducts  IsActiveMember\n0  Female  23.0       0.00              2             1.0\n1  Female  46.0       0.00              1             0.0\n2  Female  34.0       0.00              2             0.0\n3    Male  36.0       0.00              1             0.0\n4    Male  38.0  121263.62              1             0.0",
      "text/html": "<div>\n<style scoped>\n    .dataframe tbody tr th:only-of-type {\n        vertical-align: middle;\n    }\n\n    .dataframe tbody tr th {\n        vertical-align: top;\n    }\n\n    .dataframe thead th {\n        text-align: right;\n    }\n</style>\n<table border=\"1\" class=\"dataframe\">\n  <thead>\n    <tr style=\"text-align: right;\">\n      <th></th>\n      <th>Gender</th>\n      <th>Age</th>\n      <th>Balance</th>\n      <th>NumOfProducts</th>\n      <th>IsActiveMember</th>\n    </tr>\n  </thead>\n  <tbody>\n    <tr>\n      <th>0</th>\n      <td>Female</td>\n      <td>23.0</td>\n      <td>0.00</td>\n      <td>2</td>\n      <td>1.0</td>\n    </tr>\n    <tr>\n      <th>1</th>\n      <td>Female</td>\n      <td>46.0</td>\n      <td>0.00</td>\n      <td>1</td>\n      <td>0.0</td>\n    </tr>\n    <tr>\n      <th>2</th>\n      <td>Female</td>\n      <td>34.0</td>\n      <td>0.00</td>\n      <td>2</td>\n      <td>0.0</td>\n    </tr>\n    <tr>\n      <th>3</th>\n      <td>Male</td>\n      <td>36.0</td>\n      <td>0.00</td>\n      <td>1</td>\n      <td>0.0</td>\n    </tr>\n    <tr>\n      <th>4</th>\n      <td>Male</td>\n      <td>38.0</td>\n      <td>121263.62</td>\n      <td>1</td>\n      <td>0.0</td>\n    </tr>\n  </tbody>\n</table>\n</div>"
     },
     "execution_count": 18,
     "metadata": {},
     "output_type": "execute_result"
    }
   ],
   "source": [
    "test_data_relevant = test_data[final_features]\n",
    "test_data_relevant.head()"
   ],
   "metadata": {
    "collapsed": false,
    "ExecuteTime": {
     "end_time": "2024-01-31T20:23:32.592277Z",
     "start_time": "2024-01-31T20:23:32.586457Z"
    }
   },
   "id": "819e9769b1170d75",
   "execution_count": 18
  },
  {
   "cell_type": "code",
   "outputs": [
    {
     "data": {
      "text/plain": "        Gender\n0       Female\n1       Female\n2       Female\n3         Male\n4         Male\n...        ...\n110018    Male\n110019  Female\n110020    Male\n110021  Female\n110022  Female\n\n[110023 rows x 1 columns]",
      "text/html": "<div>\n<style scoped>\n    .dataframe tbody tr th:only-of-type {\n        vertical-align: middle;\n    }\n\n    .dataframe tbody tr th {\n        vertical-align: top;\n    }\n\n    .dataframe thead th {\n        text-align: right;\n    }\n</style>\n<table border=\"1\" class=\"dataframe\">\n  <thead>\n    <tr style=\"text-align: right;\">\n      <th></th>\n      <th>Gender</th>\n    </tr>\n  </thead>\n  <tbody>\n    <tr>\n      <th>0</th>\n      <td>Female</td>\n    </tr>\n    <tr>\n      <th>1</th>\n      <td>Female</td>\n    </tr>\n    <tr>\n      <th>2</th>\n      <td>Female</td>\n    </tr>\n    <tr>\n      <th>3</th>\n      <td>Male</td>\n    </tr>\n    <tr>\n      <th>4</th>\n      <td>Male</td>\n    </tr>\n    <tr>\n      <th>...</th>\n      <td>...</td>\n    </tr>\n    <tr>\n      <th>110018</th>\n      <td>Male</td>\n    </tr>\n    <tr>\n      <th>110019</th>\n      <td>Female</td>\n    </tr>\n    <tr>\n      <th>110020</th>\n      <td>Male</td>\n    </tr>\n    <tr>\n      <th>110021</th>\n      <td>Female</td>\n    </tr>\n    <tr>\n      <th>110022</th>\n      <td>Female</td>\n    </tr>\n  </tbody>\n</table>\n<p>110023 rows × 1 columns</p>\n</div>"
     },
     "execution_count": 19,
     "metadata": {},
     "output_type": "execute_result"
    }
   ],
   "source": [
    "test_data_relevant.select_dtypes(include='object')"
   ],
   "metadata": {
    "collapsed": false,
    "ExecuteTime": {
     "end_time": "2024-01-31T20:23:32.595144Z",
     "start_time": "2024-01-31T20:23:32.592023Z"
    }
   },
   "id": "d1914dbef078de7f",
   "execution_count": 19
  },
  {
   "cell_type": "code",
   "outputs": [
    {
     "data": {
      "text/plain": "0         0\n1         0\n2         0\n3         1\n4         1\n         ..\n110018    1\n110019    0\n110020    1\n110021    0\n110022    0\nName: Gender, Length: 110023, dtype: int64"
     },
     "execution_count": 20,
     "metadata": {},
     "output_type": "execute_result"
    }
   ],
   "source": [
    "test_data_relevant[\"Gender\"] = gender_encoder.transform(test_data_relevant[\"Gender\"])\n",
    "test_data_relevant[\"Gender\"]"
   ],
   "metadata": {
    "collapsed": false,
    "ExecuteTime": {
     "end_time": "2024-01-31T20:23:32.616868Z",
     "start_time": "2024-01-31T20:23:32.601791Z"
    }
   },
   "id": "a7d3f98e6e5859b1",
   "execution_count": 20
  },
  {
   "cell_type": "code",
   "outputs": [
    {
     "name": "stdout",
     "output_type": "stream",
     "text": [
      "<class 'pandas.core.frame.DataFrame'>\n",
      "RangeIndex: 110023 entries, 0 to 110022\n",
      "Data columns (total 5 columns):\n",
      " #   Column          Non-Null Count   Dtype  \n",
      "---  ------          --------------   -----  \n",
      " 0   Gender          110023 non-null  int64  \n",
      " 1   Age             110023 non-null  float64\n",
      " 2   Balance         110023 non-null  float64\n",
      " 3   NumOfProducts   110023 non-null  int64  \n",
      " 4   IsActiveMember  110023 non-null  float64\n",
      "dtypes: float64(3), int64(2)\n",
      "memory usage: 4.2 MB\n"
     ]
    }
   ],
   "source": [
    "test_data_relevant.info()"
   ],
   "metadata": {
    "collapsed": false,
    "ExecuteTime": {
     "end_time": "2024-01-31T20:23:32.632899Z",
     "start_time": "2024-01-31T20:23:32.606600Z"
    }
   },
   "id": "c859ceb540ca3dbd",
   "execution_count": 21
  },
  {
   "cell_type": "code",
   "outputs": [],
   "source": [
    "prediction = model.predict_proba(test_data_relevant)"
   ],
   "metadata": {
    "collapsed": false,
    "ExecuteTime": {
     "end_time": "2024-01-31T20:23:32.860651Z",
     "start_time": "2024-01-31T20:23:32.615658Z"
    }
   },
   "id": "af65eaefc13114be",
   "execution_count": 22
  },
  {
   "cell_type": "code",
   "outputs": [
    {
     "data": {
      "text/plain": "array([0.01622159, 0.850681  , 0.02506888, ..., 0.01544759, 0.14201632,\n       0.20305295], dtype=float32)"
     },
     "execution_count": 23,
     "metadata": {},
     "output_type": "execute_result"
    }
   ],
   "source": [
    "predicted_probabilities = prediction[:,1]\n",
    "predicted_probabilities"
   ],
   "metadata": {
    "collapsed": false,
    "ExecuteTime": {
     "end_time": "2024-01-31T20:23:32.865819Z",
     "start_time": "2024-01-31T20:23:32.860651Z"
    }
   },
   "id": "a9cce83321499986",
   "execution_count": 23
  },
  {
   "cell_type": "code",
   "outputs": [
    {
     "data": {
      "text/plain": "            id    Exited\n0       165034  0.016222\n1       165035  0.850681\n2       165036  0.025069\n3       165037  0.308610\n4       165038  0.208060\n...        ...       ...\n110018  275052  0.033160\n110019  275053  0.036473\n110020  275054  0.015448\n110021  275055  0.142016\n110022  275056  0.203053\n\n[110023 rows x 2 columns]",
      "text/html": "<div>\n<style scoped>\n    .dataframe tbody tr th:only-of-type {\n        vertical-align: middle;\n    }\n\n    .dataframe tbody tr th {\n        vertical-align: top;\n    }\n\n    .dataframe thead th {\n        text-align: right;\n    }\n</style>\n<table border=\"1\" class=\"dataframe\">\n  <thead>\n    <tr style=\"text-align: right;\">\n      <th></th>\n      <th>id</th>\n      <th>Exited</th>\n    </tr>\n  </thead>\n  <tbody>\n    <tr>\n      <th>0</th>\n      <td>165034</td>\n      <td>0.016222</td>\n    </tr>\n    <tr>\n      <th>1</th>\n      <td>165035</td>\n      <td>0.850681</td>\n    </tr>\n    <tr>\n      <th>2</th>\n      <td>165036</td>\n      <td>0.025069</td>\n    </tr>\n    <tr>\n      <th>3</th>\n      <td>165037</td>\n      <td>0.308610</td>\n    </tr>\n    <tr>\n      <th>4</th>\n      <td>165038</td>\n      <td>0.208060</td>\n    </tr>\n    <tr>\n      <th>...</th>\n      <td>...</td>\n      <td>...</td>\n    </tr>\n    <tr>\n      <th>110018</th>\n      <td>275052</td>\n      <td>0.033160</td>\n    </tr>\n    <tr>\n      <th>110019</th>\n      <td>275053</td>\n      <td>0.036473</td>\n    </tr>\n    <tr>\n      <th>110020</th>\n      <td>275054</td>\n      <td>0.015448</td>\n    </tr>\n    <tr>\n      <th>110021</th>\n      <td>275055</td>\n      <td>0.142016</td>\n    </tr>\n    <tr>\n      <th>110022</th>\n      <td>275056</td>\n      <td>0.203053</td>\n    </tr>\n  </tbody>\n</table>\n<p>110023 rows × 2 columns</p>\n</div>"
     },
     "execution_count": 24,
     "metadata": {},
     "output_type": "execute_result"
    }
   ],
   "source": [
    "submission_df = pd.DataFrame({\"id\": test_data[\"id\"], \"Exited\": predicted_probabilities})\n",
    "submission_df"
   ],
   "metadata": {
    "collapsed": false,
    "ExecuteTime": {
     "end_time": "2024-01-31T20:23:32.871498Z",
     "start_time": "2024-01-31T20:23:32.863909Z"
    }
   },
   "id": "76dfb50cb05fadf8",
   "execution_count": 24
  },
  {
   "cell_type": "code",
   "outputs": [],
   "source": [
    "submission_df.to_csv(\"./submission.csv\", index=False)"
   ],
   "metadata": {
    "collapsed": false,
    "ExecuteTime": {
     "end_time": "2024-01-31T20:23:32.959266Z",
     "start_time": "2024-01-31T20:23:32.869084Z"
    }
   },
   "id": "12028d81656c4a78",
   "execution_count": 25
  },
  {
   "cell_type": "code",
   "outputs": [],
   "source": [
    "import torch.nn as nn\n",
    "import torch\n",
    "from torch.optim import Adam"
   ],
   "metadata": {
    "collapsed": false,
    "ExecuteTime": {
     "end_time": "2024-01-31T20:23:33.893445Z",
     "start_time": "2024-01-31T20:23:32.937103Z"
    }
   },
   "id": "46a44114fa326137",
   "execution_count": 26
  },
  {
   "cell_type": "code",
   "outputs": [],
   "source": [
    "class NetModel(nn.Module):\n",
    "    \n",
    "    def __init__(self, input_size, *args, **kwargs):\n",
    "        super().__init__()\n",
    "        self.model = nn.Sequential(\n",
    "            nn.Linear(input_size, 24),\n",
    "            nn.ReLU(),\n",
    "            nn.Linear(24, 12),\n",
    "            nn.ReLU(),\n",
    "            nn.Linear(12,4),\n",
    "            nn.ReLU(),\n",
    "            nn.Linear(4, 1)\n",
    "            )\n",
    "\n",
    "        \n",
    "    def forward(self, inputs: torch.Tensor) -> torch.Tensor:\n",
    "        return torch.sigmoid(self.model(inputs))"
   ],
   "metadata": {
    "collapsed": false,
    "ExecuteTime": {
     "end_time": "2024-01-31T20:23:33.898874Z",
     "start_time": "2024-01-31T20:23:33.894623Z"
    }
   },
   "id": "e85b186f578f1262",
   "execution_count": 27
  },
  {
   "cell_type": "code",
   "outputs": [
    {
     "data": {
      "text/plain": "(110023, 5)"
     },
     "execution_count": 28,
     "metadata": {},
     "output_type": "execute_result"
    }
   ],
   "source": [
    "test_data_relevant.shape"
   ],
   "metadata": {
    "collapsed": false,
    "ExecuteTime": {
     "end_time": "2024-01-31T20:23:33.899633Z",
     "start_time": "2024-01-31T20:23:33.896992Z"
    }
   },
   "id": "a3720e9f5cb5f5d9",
   "execution_count": 28
  },
  {
   "cell_type": "code",
   "outputs": [],
   "source": [
    "device = \"mps\" if torch.backends.mps.is_available() else \"cpu\""
   ],
   "metadata": {
    "collapsed": false,
    "ExecuteTime": {
     "end_time": "2024-01-31T20:23:33.936513Z",
     "start_time": "2024-01-31T20:23:33.898761Z"
    }
   },
   "id": "b3b85e378f568b81",
   "execution_count": 29
  },
  {
   "cell_type": "code",
   "outputs": [],
   "source": [
    "net_model = NetModel(input_size=5).to(device)"
   ],
   "metadata": {
    "collapsed": false,
    "ExecuteTime": {
     "end_time": "2024-01-31T20:23:33.956194Z",
     "start_time": "2024-01-31T20:23:33.937118Z"
    }
   },
   "id": "74065f8c3f8bf6e7",
   "execution_count": 30
  },
  {
   "cell_type": "code",
   "outputs": [],
   "source": [
    "# Training \n",
    "learning_rate = 0.001\n",
    "criterion = nn.BCEWithLogitsLoss()\n",
    "optimizer = Adam(params=net_model.parameters(),lr=learning_rate)"
   ],
   "metadata": {
    "collapsed": false,
    "ExecuteTime": {
     "end_time": "2024-01-31T20:23:34.073585Z",
     "start_time": "2024-01-31T20:23:33.956898Z"
    }
   },
   "id": "95636d40c39cfacb",
   "execution_count": 31
  },
  {
   "cell_type": "code",
   "outputs": [],
   "source": [
    "X_train_tensor = torch.from_numpy(X_train.values.astype(np.float32)).to(device)\n",
    "y_train_tensor = torch.from_numpy(y_train.values.astype(np.float32)).to(device).view(y_train.shape[0],1)"
   ],
   "metadata": {
    "collapsed": false,
    "ExecuteTime": {
     "end_time": "2024-01-31T20:23:34.081615Z",
     "start_time": "2024-01-31T20:23:34.074496Z"
    }
   },
   "id": "6e403c2a4b4568cb",
   "execution_count": 32
  },
  {
   "cell_type": "code",
   "outputs": [
    {
     "name": "stdout",
     "output_type": "stream",
     "text": [
      "Epoch loss: 0.8046433329582214\n",
      "Epoch loss: 0.6983377933502197\n",
      "Epoch loss: 0.6940554976463318\n",
      "Epoch loss: 0.6935285925865173\n",
      "Epoch loss: 0.6933587193489075\n",
      "Epoch loss: 0.6932821273803711\n",
      "Epoch loss: 0.6932410001754761\n",
      "Epoch loss: 0.6932162046432495\n",
      "Epoch loss: 0.6932001113891602\n",
      "Epoch loss: 0.6931889653205872\n",
      "Epoch loss: 0.693181037902832\n",
      "Epoch loss: 0.6931750774383545\n",
      "Epoch loss: 0.6931705474853516\n",
      "Epoch loss: 0.693166971206665\n",
      "Epoch loss: 0.6931641697883606\n",
      "Epoch loss: 0.6931619048118591\n",
      "Epoch loss: 0.6931600570678711\n",
      "Epoch loss: 0.6931584477424622\n",
      "Epoch loss: 0.6931571364402771\n",
      "Epoch loss: 0.6931560635566711\n",
      "Epoch loss: 0.6931551098823547\n",
      "Epoch loss: 0.6931543350219727\n",
      "Epoch loss: 0.6931535601615906\n",
      "Epoch loss: 0.6931530237197876\n",
      "Epoch loss: 0.6931524276733398\n",
      "Epoch loss: 0.6931520104408264\n",
      "Epoch loss: 0.6931515336036682\n",
      "Epoch loss: 0.6931511759757996\n",
      "Epoch loss: 0.6931508779525757\n",
      "Epoch loss: 0.6931505799293518\n",
      "Epoch loss: 0.6931502819061279\n",
      "Epoch loss: 0.6931500434875488\n",
      "Epoch loss: 0.6931498646736145\n",
      "Epoch loss: 0.6931496858596802\n",
      "Epoch loss: 0.6931494474411011\n",
      "Epoch loss: 0.6931492686271667\n",
      "Epoch loss: 0.6931491494178772\n",
      "Epoch loss: 0.6931489706039429\n",
      "Epoch loss: 0.6931488513946533\n",
      "Epoch loss: 0.6931487321853638\n",
      "Epoch loss: 0.693148672580719\n",
      "Epoch loss: 0.6931485533714294\n",
      "Epoch loss: 0.6931484341621399\n",
      "Epoch loss: 0.6931483745574951\n",
      "Epoch loss: 0.6931483745574951\n",
      "Epoch loss: 0.6931482553482056\n",
      "Epoch loss: 0.693148136138916\n",
      "Epoch loss: 0.693148136138916\n",
      "Epoch loss: 0.6931480765342712\n",
      "Epoch loss: 0.6931480169296265\n",
      "Epoch loss: 0.6931479573249817\n",
      "Epoch loss: 0.6931478977203369\n",
      "Epoch loss: 0.6931478381156921\n",
      "Epoch loss: 0.6931478381156921\n",
      "Epoch loss: 0.6931478381156921\n",
      "Epoch loss: 0.6931477785110474\n",
      "Epoch loss: 0.6931477189064026\n",
      "Epoch loss: 0.6931477189064026\n",
      "Epoch loss: 0.6931476593017578\n",
      "Epoch loss: 0.6931476593017578\n",
      "Epoch loss: 0.693147599697113\n",
      "Epoch loss: 0.693147599697113\n",
      "Epoch loss: 0.693147599697113\n",
      "Epoch loss: 0.6931475400924683\n",
      "Epoch loss: 0.6931475400924683\n",
      "Epoch loss: 0.6931475400924683\n",
      "Epoch loss: 0.6931475400924683\n",
      "Epoch loss: 0.6931475400924683\n",
      "Epoch loss: 0.6931474804878235\n",
      "Epoch loss: 0.6931474804878235\n",
      "Epoch loss: 0.6931474804878235\n",
      "Epoch loss: 0.6931474804878235\n",
      "Epoch loss: 0.6931474804878235\n",
      "Epoch loss: 0.6931474804878235\n",
      "Epoch loss: 0.6931474804878235\n",
      "Epoch loss: 0.6931474804878235\n",
      "Epoch loss: 0.6931474208831787\n",
      "Epoch loss: 0.6931474208831787\n",
      "Epoch loss: 0.6931474208831787\n",
      "Epoch loss: 0.6931474208831787\n",
      "Epoch loss: 0.6931473612785339\n",
      "Epoch loss: 0.6931473612785339\n",
      "Epoch loss: 0.6931473612785339\n",
      "Epoch loss: 0.6931473612785339\n",
      "Epoch loss: 0.6931473612785339\n",
      "Epoch loss: 0.6931473612785339\n",
      "Epoch loss: 0.6931473612785339\n",
      "Epoch loss: 0.6931473612785339\n",
      "Epoch loss: 0.6931473612785339\n",
      "Epoch loss: 0.6931473612785339\n",
      "Epoch loss: 0.6931473612785339\n",
      "Epoch loss: 0.6931473612785339\n",
      "Epoch loss: 0.6931473612785339\n",
      "Epoch loss: 0.6931473612785339\n",
      "Epoch loss: 0.6931473612785339\n",
      "Epoch loss: 0.6931473612785339\n",
      "Epoch loss: 0.6931473612785339\n",
      "Epoch loss: 0.6931473612785339\n",
      "Epoch loss: 0.6931473612785339\n",
      "Epoch loss: 0.6931473612785339\n"
     ]
    }
   ],
   "source": [
    "epochs = 10000\n",
    "for epoch in range(epochs):\n",
    "    net_model.train()\n",
    "    output = net_model(X_train_tensor)\n",
    "    loss = criterion(output, y_train_tensor)\n",
    "    loss.backward()\n",
    "    optimizer.step()\n",
    "    optimizer.zero_grad()\n",
    "    if epoch % 100 == 0:\n",
    "        print(f\"Epoch loss: {loss}\")"
   ],
   "metadata": {
    "collapsed": false,
    "ExecuteTime": {
     "end_time": "2024-01-31T20:25:35.361180Z",
     "start_time": "2024-01-31T20:23:34.082785Z"
    }
   },
   "id": "89240ac912ed4601",
   "execution_count": 33
  },
  {
   "cell_type": "code",
   "outputs": [],
   "source": [
    "y_val_tensor = torch.from_numpy(y_val.values.astype(np.float32)).view(y_val.shape[0],1).to(device)\n",
    "X_val_tensor = torch.from_numpy(X_val.values.astype(np.float32)).to(device)"
   ],
   "metadata": {
    "collapsed": false,
    "ExecuteTime": {
     "end_time": "2024-01-31T20:25:35.460570Z",
     "start_time": "2024-01-31T20:25:35.368549Z"
    }
   },
   "id": "a89e32af33735a0d",
   "execution_count": 34
  },
  {
   "cell_type": "code",
   "outputs": [],
   "source": [
    "net_prediction = net_model(X_val_tensor) > 0.5\n",
    "accuracy = (net_prediction == y_val_tensor).sum()/len(net_prediction) * 100\n",
    "accuracy = accuracy.cpu().numpy().item()"
   ],
   "metadata": {
    "collapsed": false,
    "ExecuteTime": {
     "end_time": "2024-01-31T20:25:35.545125Z",
     "start_time": "2024-01-31T20:25:35.461235Z"
    }
   },
   "id": "2cea135a6300a77d",
   "execution_count": 35
  },
  {
   "cell_type": "code",
   "outputs": [
    {
     "data": {
      "text/plain": "78.23558044433594"
     },
     "execution_count": 36,
     "metadata": {},
     "output_type": "execute_result"
    }
   ],
   "source": [
    "accuracy"
   ],
   "metadata": {
    "collapsed": false,
    "ExecuteTime": {
     "end_time": "2024-01-31T20:25:35.547633Z",
     "start_time": "2024-01-31T20:25:35.545909Z"
    }
   },
   "id": "2958ed6bed7e9c12",
   "execution_count": 36
  },
  {
   "cell_type": "code",
   "outputs": [],
   "source": [],
   "metadata": {
    "collapsed": false,
    "ExecuteTime": {
     "end_time": "2024-01-31T20:25:35.551310Z",
     "start_time": "2024-01-31T20:25:35.547779Z"
    }
   },
   "id": "2b2f9bb05c6aa63d",
   "execution_count": 36
  }
 ],
 "metadata": {
  "kernelspec": {
   "display_name": "Python 3 (ipykernel)",
   "language": "python",
   "name": "python3"
  },
  "language_info": {
   "codemirror_mode": {
    "name": "ipython",
    "version": 3
   },
   "file_extension": ".py",
   "mimetype": "text/x-python",
   "name": "python",
   "nbconvert_exporter": "python",
   "pygments_lexer": "ipython3",
   "version": "3.11.7"
  }
 },
 "nbformat": 4,
 "nbformat_minor": 5
}
