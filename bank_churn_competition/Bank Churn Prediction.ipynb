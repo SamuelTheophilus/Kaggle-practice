{
 "cells": [
  {
   "cell_type": "markdown",
   "source": [
    "# Binary Classification with Bank Churn Dataset.\n",
    "## This is a kaggle playground competition to improve machine learning and data science skills. Link to the competition can be found [here](https://www.kaggle.com/competitions/playground-series-s4e1/overview)\n"
   ],
   "metadata": {
    "collapsed": false
   },
   "id": "58f562d2ea4b906d"
  },
  {
   "cell_type": "markdown",
   "source": [
    "## Importing Libraries"
   ],
   "metadata": {
    "collapsed": false
   },
   "id": "6aa8a146df0bc4dd"
  },
  {
   "cell_type": "code",
   "execution_count": 6,
   "id": "5c9b4895-53f8-4fbc-add5-f698f45e18dc",
   "metadata": {
    "ExecuteTime": {
     "end_time": "2024-01-23T18:42:31.284915Z",
     "start_time": "2024-01-23T18:42:30.561959Z"
    }
   },
   "outputs": [],
   "source": [
    "import pandas as pd\n",
    "import matplotlib.pyplot as plt\n",
    "from sklearn.preprocessing import LabelEncoder, OneHotEncoder\n",
    "from sklearn.model_selection import train_test_split\n",
    "from xgboost import XGBClassifier"
   ]
  },
  {
   "cell_type": "markdown",
   "source": [
    "## Data description"
   ],
   "metadata": {
    "collapsed": false
   },
   "id": "b0cdc5f8850c3c33"
  },
  {
   "cell_type": "code",
   "execution_count": 2,
   "id": "75a0526f-f17a-43a3-8095-36dff3a982f2",
   "metadata": {
    "ExecuteTime": {
     "end_time": "2024-01-23T18:31:10.943605Z",
     "start_time": "2024-01-23T18:31:10.846276Z"
    }
   },
   "outputs": [],
   "source": [
    "train_data = pd.read_csv(\"../data/bank_churn_competition/train.csv\")"
   ]
  },
  {
   "cell_type": "code",
   "outputs": [],
   "source": [
    "feature_columns = [column for column in list(train_data.columns) if column != \"Exited\"]\n",
    "target_column = [\"Exited\"]"
   ],
   "metadata": {
    "collapsed": false,
    "ExecuteTime": {
     "end_time": "2024-01-23T18:43:37.370715Z",
     "start_time": "2024-01-23T18:43:37.368465Z"
    }
   },
   "id": "447a16a2ce09650f",
   "execution_count": 8
  },
  {
   "cell_type": "code",
   "execution_count": 9,
   "id": "83f2400f-3f1f-4be2-83d8-39304997505b",
   "metadata": {
    "ExecuteTime": {
     "end_time": "2024-01-23T18:43:44.981836Z",
     "start_time": "2024-01-23T18:43:44.943035Z"
    }
   },
   "outputs": [
    {
     "name": "stdout",
     "output_type": "stream",
     "text": [
      "id: 165034\n",
      "\n",
      "CustomerId: 23221\n",
      "\n",
      "Surname: 2797\n",
      "\n",
      "CreditScore: 457\n",
      "\n",
      "Geography: 3\n",
      "\n",
      "Gender: 2\n",
      "\n",
      "Age: 71\n",
      "\n",
      "Tenure: 11\n",
      "\n",
      "Balance: 30075\n",
      "\n",
      "NumOfProducts: 4\n",
      "\n",
      "HasCrCard: 2\n",
      "\n",
      "IsActiveMember: 2\n",
      "\n",
      "EstimatedSalary: 55298\n"
     ]
    }
   ],
   "source": [
    "for column in feature_columns:\n",
    "    # if column != \"id\": \n",
    "    print(f\"{column}: {train_data[column].nunique()}\\n\")"
   ]
  },
  {
   "cell_type": "code",
   "execution_count": 4,
   "id": "cbb76b96-4d62-462c-b9b8-4e4a6c9d9381",
   "metadata": {
    "ExecuteTime": {
     "end_time": "2024-01-23T18:33:05.922926Z",
     "start_time": "2024-01-23T18:33:05.917911Z"
    }
   },
   "outputs": [
    {
     "name": "stdout",
     "output_type": "stream",
     "text": [
      "Target values [0 1]\n"
     ]
    }
   ],
   "source": [
    "print(f\"Target values:: {train_data['Exited'].unique()}\")"
   ]
  },
  {
   "cell_type": "code",
   "outputs": [],
   "source": [],
   "metadata": {
    "collapsed": false
   },
   "id": "f84982f76d6af549"
  }
 ],
 "metadata": {
  "kernelspec": {
   "display_name": "Python 3 (ipykernel)",
   "language": "python",
   "name": "python3"
  },
  "language_info": {
   "codemirror_mode": {
    "name": "ipython",
    "version": 3
   },
   "file_extension": ".py",
   "mimetype": "text/x-python",
   "name": "python",
   "nbconvert_exporter": "python",
   "pygments_lexer": "ipython3",
   "version": "3.11.7"
  }
 },
 "nbformat": 4,
 "nbformat_minor": 5
}
